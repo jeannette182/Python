{
 "cells": [
  {
   "cell_type": "code",
   "execution_count": 1,
   "metadata": {},
   "outputs": [
    {
     "name": "stdout",
     "output_type": "stream",
     "text": [
      "enter the positive integer10\n",
      "6\n"
     ]
    }
   ],
   "source": [
    "N0=int(input('enter the positive integer'))\n",
    "som=0\n",
    "for i in range(1,N0):\n",
    "    if i%2==0 and i%3==0:\n",
    "        som=som+i\n",
    "print(som)"
   ]
  },
  {
   "cell_type": "code",
   "execution_count": null,
   "metadata": {},
   "outputs": [],
   "source": [
    "N = int(input('enter number n'))\n",
    "z = input('enter number z')\n",
    "if z==0:\n",
    "    print('the number must be different from zero')\n",
    "else:\n",
    "    B=0\n",
    "    for i in range(0,N+1):\n",
    "        B = B+(-1)**i/(z**i)\n",
    "    print(B)   "
   ]
  },
  {
   "cell_type": "code",
   "execution_count": 5,
   "metadata": {},
   "outputs": [
    {
     "name": "stdout",
     "output_type": "stream",
     "text": [
      "enter a positive integer:5\n",
      "13\n"
     ]
    }
   ],
   "source": [
    "n=int(input('enter a positive integer:'))\n",
    "if n==0:\n",
    "    Un=1\n",
    "elif n==1:\n",
    "    Un=2\n",
    "else:\n",
    "    a=1\n",
    "    b=2\n",
    "    for i in range(0,n-1):\n",
    "        Un=a+b\n",
    "        a=b\n",
    "        b=Un\n",
    "print(Un)\n"
   ]
  },
  {
   "cell_type": "code",
   "execution_count": null,
   "metadata": {},
   "outputs": [],
   "source": [
    "     return dxdt,dydt,dwdt,dqdt\n",
    "\n",
    "z0 = [..,...,..,...]\n",
    "t= np.linspace(a,b,N)\n",
    "\n",
    "\n",
    "def EulerMethod(f,z0,t):\n",
    "    H = t[1]-t[0]\n",
    "    N = len(t)\n",
    "    M = len(z0)\n",
    "    z = np.zeros((N,M))\n",
    "    \n",
    "    z[0] = z0\n",
    "    \n",
    "    for k in range(0, N-1):\n",
    "        z[k+1] = z[k] + H*f(z[k], t[k])\n",
    "    return z\n",
    "def f(z,t):\n",
    "    x,y = z\n",
    "    dxdt= ...\n",
    "    dydt = ...\n",
    "    return dxdt,dydt\n",
    "    \n",
    "z0=...\n",
    "\n",
    "a=...\n",
    "b =...\n",
    "N = ...\n",
    "t=np.linspace(a,b,N)\n",
    "\n",
    "z1 = EulerMethod(f,z0,t)\n",
    "\n",
    "x = z[:,0]\n",
    "y= z[:,1]"
   ]
  },
  {
   "cell_type": "code",
   "execution_count": 11,
   "metadata": {},
   "outputs": [
    {
     "data": {
      "text/plain": [
       "array([[1., 2.],\n",
       "       [0., 0.],\n",
       "       [0., 0.],\n",
       "       [0., 0.],\n",
       "       [0., 0.]])"
      ]
     },
     "execution_count": 11,
     "metadata": {},
     "output_type": "execute_result"
    }
   ],
   "source": [
    "import numpy as np\n",
    "z = np.zeros((5,2))\n",
    "z0 = [1,2]\n",
    "z[0] = z0\n",
    "z"
   ]
  },
  {
   "cell_type": "code",
   "execution_count": null,
   "metadata": {},
   "outputs": [],
   "source": [
    "import numpy as np\n",
    "def EulerMethod(f,z0,t):\n",
    "    H = t[1]-t[0]\n",
    "    N = len(t)\n",
    "    M = len(z0)\n",
    "    \n",
    "    z = np.zeros((N,M))\n",
    "    \n",
    "    z[0] = z0\n",
    "    \n",
    "    for k in range(0, N-1):\n",
    "        z[k+1] = z[k] + H*f(z[k], t[k])\n",
    "    return z\n",
    "        "
   ]
  },
  {
   "cell_type": "code",
   "execution_count": null,
   "metadata": {},
   "outputs": [],
   "source": [
    "def RK2Method(f,z0,t):\n",
    "    H = t[1]-t[0]\n",
    "    N = len(t)\n",
    "    M = len(z0)\n",
    "    \n",
    "    z = np.zeros((N,M))\n",
    "    \n",
    "    z[0] = z0\n",
    "    \n",
    "    for k in range(0, N-1):\n",
    "        \n",
    "        \n",
    "        z[k+1] = \n",
    "    return z"
   ]
  },
  {
   "cell_type": "code",
   "execution_count": null,
   "metadata": {},
   "outputs": [],
   "source": []
  }
 ],
 "metadata": {
  "kernelspec": {
   "display_name": "Python 3",
   "language": "python",
   "name": "python3"
  },
  "language_info": {
   "codemirror_mode": {
    "name": "ipython",
    "version": 3
   },
   "file_extension": ".py",
   "mimetype": "text/x-python",
   "name": "python",
   "nbconvert_exporter": "python",
   "pygments_lexer": "ipython3",
   "version": "3.7.6"
  }
 },
 "nbformat": 4,
 "nbformat_minor": 4
}
